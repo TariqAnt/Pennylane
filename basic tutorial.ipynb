{
 "cells": [
  {
   "cell_type": "code",
   "execution_count": 1,
   "id": "134e435e-3107-4083-8ec7-b2845c7d53ee",
   "metadata": {},
   "outputs": [],
   "source": [
    "import pennylane as qml\n",
    "from pennylane import numpy as np"
   ]
  },
  {
   "cell_type": "markdown",
   "id": "5e9fd015-7c47-4fd0-acf5-cae4ddcfa87d",
   "metadata": {},
   "source": [
    "Creating a device"
   ]
  },
  {
   "cell_type": "code",
   "execution_count": 2,
   "id": "4d865937-38d4-49a9-a1cb-61bee23de1a2",
   "metadata": {},
   "outputs": [],
   "source": [
    "dev1 = qml.device(\"default.qubit\", wires=1)"
   ]
  },
  {
   "cell_type": "markdown",
   "id": "f26eba72-132e-4187-a6f3-a352492e09d5",
   "metadata": {},
   "source": [
    "for all device()\n",
    "device(\"name\",wires) name = the name of deivce ; wires = the number of subsystems to initialize the device\n",
    "\n"
   ]
  },
  {
   "cell_type": "markdown",
   "id": "c1a3bced-61ff-4a74-971b-eaab0c1a4a99",
   "metadata": {},
   "source": [
    "Constructing a Quantum Node"
   ]
  },
  {
   "cell_type": "code",
   "execution_count": 8,
   "id": "3cdd9314-dcc1-4c2e-86b2-4241e94026b8",
   "metadata": {},
   "outputs": [],
   "source": [
    "@qml.qnode(dev1)\n",
    "def circuit(params):\n",
    "    qml.RX(params[0],wires=0)\n",
    "    qml.RY(params[1], wires=0)\n",
    "    return qml.expval(qml.PauliZ(0))"
   ]
  },
  {
   "cell_type": "code",
   "execution_count": 9,
   "id": "f9f3adf7-f262-40dc-8496-881ebe882ef3",
   "metadata": {},
   "outputs": [
    {
     "name": "stdout",
     "output_type": "stream",
     "text": [
      "0.871271546119522\n"
     ]
    }
   ],
   "source": [
    "print(circuit([0.5,0.12]))"
   ]
  },
  {
   "cell_type": "code",
   "execution_count": 10,
   "id": "cf8ca990-ad7c-4145-89f5-52e7952aa832",
   "metadata": {},
   "outputs": [],
   "source": [
    "@qml.qnode(dev1)\n",
    "def circuit2(a1,b1):\n",
    "    qml.RX(a1,wires=0)\n",
    "    qml.RY(b1, wires=0)\n",
    "    return qml.expval(qml.PauliZ(0))"
   ]
  },
  {
   "cell_type": "code",
   "execution_count": 11,
   "id": "6c1f144b-1d65-41d8-ba5e-f6b126fc43db",
   "metadata": {},
   "outputs": [
    {
     "name": "stdout",
     "output_type": "stream",
     "text": [
      "0.871271546119522\n"
     ]
    }
   ],
   "source": [
    "print(circuit2(0.5,0.12))"
   ]
  },
  {
   "cell_type": "markdown",
   "id": "a0d6a9b2-10c2-469a-af92-a49bf704d893",
   "metadata": {},
   "source": [
    "When we calculate the gradient for such a function, the usage of argnum will be slightly different. In this case, argnum=0 will return the gradient with respect to only the first parameter (phi1), and argnum=1 will give the gradient for phi2. To get the gradient with respect to both parameters, we can use argnum=[0,1]:"
   ]
  },
  {
   "cell_type": "code",
   "execution_count": 12,
   "id": "51584d83-97f0-4c03-a723-d53efa18eafe",
   "metadata": {},
   "outputs": [
    {
     "name": "stdout",
     "output_type": "stream",
     "text": [
      "(array(-0.47597781), array(-0.10505735))\n"
     ]
    }
   ],
   "source": [
    "dcircuit = qml.grad(circuit2, argnum=[0,1])\n",
    "print(dcircuit(0.5,0.12))"
   ]
  },
  {
   "cell_type": "markdown",
   "id": "21cd919b-5540-4164-bce0-188b22ddb4e6",
   "metadata": {},
   "source": [
    "Optimization :\n",
    "Cost function"
   ]
  },
  {
   "cell_type": "code",
   "execution_count": 13,
   "id": "8c9d7a9f-45c8-406a-8834-a7ff0485ef6f",
   "metadata": {},
   "outputs": [],
   "source": [
    "def cost(x):\n",
    "    return circuit(x)"
   ]
  },
  {
   "cell_type": "markdown",
   "id": "8cd008ad-de3b-4c9d-86e8-4f9dda11e6c5",
   "metadata": {},
   "source": [
    "To begin our optimization, let’s choose small initial values of ϕ1\n",
    " and ϕ2\n",
    ":"
   ]
  },
  {
   "cell_type": "code",
   "execution_count": 14,
   "id": "36d9eaf3-e86e-401a-8547-0e7851cae527",
   "metadata": {},
   "outputs": [
    {
     "name": "stdout",
     "output_type": "stream",
     "text": [
      "0.9998675058299389\n"
     ]
    }
   ],
   "source": [
    "init_params = np.array([0.011,0.012], requires_grad = True)\n",
    "print(cost(init_params))"
   ]
  },
  {
   "cell_type": "markdown",
   "id": "c4078d33-2f7b-4af2-9cdc-7c7e918e859a",
   "metadata": {},
   "source": [
    "We can see that, for these initial parameter values, the cost function is close to 1\n",
    ".\n",
    "\n",
    "Finally, we use an optimizer to update the circuit parameters for 100 steps. We can use the built-in GradientDescentOptimizer class:"
   ]
  },
  {
   "cell_type": "code",
   "execution_count": 15,
   "id": "372f8123-a269-4d1d-89e9-e334b4dfcec6",
   "metadata": {},
   "outputs": [
    {
     "name": "stdout",
     "output_type": "stream",
     "text": [
      "Cost after step     5:0.9961778\n",
      "Cost after step    10:0.8974944\n",
      "Cost after step    15:0.1440490\n",
      "Cost after step    20:-0.1536720\n",
      "Cost after step    25:-0.9152496\n",
      "Cost after step    30:-0.9994046\n",
      "Cost after step    35:-0.9999964\n",
      "Cost after step    40:-1.0000000\n",
      "Cost after step    45:-1.0000000\n",
      "Cost after step    50:-1.0000000\n",
      "Cost after step    55:-1.0000000\n",
      "Cost after step    60:-1.0000000\n",
      "Cost after step    65:-1.0000000\n",
      "Cost after step    70:-1.0000000\n",
      "Cost after step    75:-1.0000000\n",
      "Cost after step    80:-1.0000000\n",
      "Cost after step    85:-1.0000000\n",
      "Cost after step    90:-1.0000000\n",
      "Cost after step    95:-1.0000000\n",
      "Cost after step   100:-1.0000000\n",
      "Optimized Rotation angles:[7.15266381e-18 3.14159265e+00]\n"
     ]
    }
   ],
   "source": [
    "#initialise the optimizer\n",
    "opt = qml.GradientDescentOptimizer(stepsize=0.4)\n",
    "\n",
    "#set the number of steps\n",
    "steps = 100\n",
    "\n",
    "#set the initial parameter value\n",
    "\n",
    "params = init_params\n",
    "\n",
    "for i in range(steps):\n",
    "    \n",
    "    #update the circuit paramters\n",
    "    \n",
    "    params = opt.step(cost,params)\n",
    "    \n",
    "    if (i+1)%5 == 0:\n",
    "        print(\"Cost after step {:5d}:{:.7f}\".format(i+1, cost(params)))\n",
    "        \n",
    "\n",
    "print(\"Optimized Rotation angles:{}\".format(params))\n",
    "\n"
   ]
  },
  {
   "cell_type": "code",
   "execution_count": null,
   "id": "628f1075-ad65-4175-9641-b15189069906",
   "metadata": {},
   "outputs": [],
   "source": []
  }
 ],
 "metadata": {
  "kernelspec": {
   "display_name": "Python 3 [Default]",
   "language": "python",
   "name": "python3"
  },
  "language_info": {
   "codemirror_mode": {
    "name": "ipython",
    "version": 3
   },
   "file_extension": ".py",
   "mimetype": "text/x-python",
   "name": "python",
   "nbconvert_exporter": "python",
   "pygments_lexer": "ipython3",
   "version": "3.9.10"
  }
 },
 "nbformat": 4,
 "nbformat_minor": 5
}
